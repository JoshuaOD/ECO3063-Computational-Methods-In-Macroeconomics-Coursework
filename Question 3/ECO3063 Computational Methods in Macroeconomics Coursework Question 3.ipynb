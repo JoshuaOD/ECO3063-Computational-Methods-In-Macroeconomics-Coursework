{
 "cells": [
  {
   "cell_type": "markdown",
   "metadata": {},
   "source": [
    "# ECO3063: Computational Method in Macroeconomics Coursework"
   ]
  },
  {
   "cell_type": "code",
   "execution_count": 1,
   "metadata": {},
   "outputs": [],
   "source": [
    "# Importing relevant libraries\n",
    "import numpy as np\n",
    "import pandas as pd\n",
    "import seaborn as sns\n",
    "from pandas_datareader import data as pdr\n",
    "import matplotlib.pyplot as plt"
   ]
  },
  {
   "cell_type": "markdown",
   "metadata": {},
   "source": [
    "## 3. Generalisation of Preferences [35%]"
   ]
  },
  {
   "cell_type": "code",
   "execution_count": 2,
   "metadata": {},
   "outputs": [],
   "source": [
    "# Reading in the Prescott Data\n",
    "data = pd.read_csv('data_prescott.csv')\n",
    "data_country = data[\"country\"].iloc[0:7]\n",
    "data_c2y9396 = data[\"c2y\"].iloc[0:7]\n",
    "data_tau9396 = data[\"tau\"].iloc[0:7]\n",
    "data_hdata9396 = data[\"h\"].iloc[0:7]\n",
    "data_c2y7074 = data[\"c2y\"].iloc[7:14]\n",
    "data_tau7074 = data[\"tau\"].iloc[7:14]\n",
    "data_hdata7074 = data[\"h\"].iloc[7:14]"
   ]
  },
  {
   "cell_type": "code",
   "execution_count": 3,
   "metadata": {},
   "outputs": [
    {
     "data": {
      "text/html": [
       "<div>\n",
       "<style scoped>\n",
       "    .dataframe tbody tr th:only-of-type {\n",
       "        vertical-align: middle;\n",
       "    }\n",
       "\n",
       "    .dataframe tbody tr th {\n",
       "        vertical-align: top;\n",
       "    }\n",
       "\n",
       "    .dataframe thead th {\n",
       "        text-align: right;\n",
       "    }\n",
       "</style>\n",
       "<table border=\"1\" class=\"dataframe\">\n",
       "  <thead>\n",
       "    <tr style=\"text-align: right;\">\n",
       "      <th></th>\n",
       "      <th>period</th>\n",
       "      <th>country</th>\n",
       "      <th>h</th>\n",
       "      <th>tau</th>\n",
       "      <th>c2y</th>\n",
       "    </tr>\n",
       "  </thead>\n",
       "  <tbody>\n",
       "    <tr>\n",
       "      <th>0</th>\n",
       "      <td>1993-1996</td>\n",
       "      <td>DEU</td>\n",
       "      <td>19.3</td>\n",
       "      <td>0.59</td>\n",
       "      <td>0.74</td>\n",
       "    </tr>\n",
       "    <tr>\n",
       "      <th>1</th>\n",
       "      <td>NaN</td>\n",
       "      <td>FRA</td>\n",
       "      <td>17.5</td>\n",
       "      <td>0.59</td>\n",
       "      <td>0.74</td>\n",
       "    </tr>\n",
       "    <tr>\n",
       "      <th>2</th>\n",
       "      <td>NaN</td>\n",
       "      <td>ITA</td>\n",
       "      <td>16.5</td>\n",
       "      <td>0.64</td>\n",
       "      <td>0.69</td>\n",
       "    </tr>\n",
       "    <tr>\n",
       "      <th>3</th>\n",
       "      <td>NaN</td>\n",
       "      <td>CAN</td>\n",
       "      <td>22.9</td>\n",
       "      <td>0.52</td>\n",
       "      <td>0.77</td>\n",
       "    </tr>\n",
       "    <tr>\n",
       "      <th>4</th>\n",
       "      <td>NaN</td>\n",
       "      <td>GBR</td>\n",
       "      <td>22.8</td>\n",
       "      <td>0.44</td>\n",
       "      <td>0.83</td>\n",
       "    </tr>\n",
       "    <tr>\n",
       "      <th>5</th>\n",
       "      <td>NaN</td>\n",
       "      <td>JPN</td>\n",
       "      <td>27.0</td>\n",
       "      <td>0.37</td>\n",
       "      <td>0.68</td>\n",
       "    </tr>\n",
       "    <tr>\n",
       "      <th>6</th>\n",
       "      <td>NaN</td>\n",
       "      <td>USA</td>\n",
       "      <td>25.9</td>\n",
       "      <td>0.40</td>\n",
       "      <td>0.81</td>\n",
       "    </tr>\n",
       "    <tr>\n",
       "      <th>7</th>\n",
       "      <td>1970-1974</td>\n",
       "      <td>DEU</td>\n",
       "      <td>24.6</td>\n",
       "      <td>0.52</td>\n",
       "      <td>0.66</td>\n",
       "    </tr>\n",
       "    <tr>\n",
       "      <th>8</th>\n",
       "      <td>NaN</td>\n",
       "      <td>FRA</td>\n",
       "      <td>24.4</td>\n",
       "      <td>0.49</td>\n",
       "      <td>0.66</td>\n",
       "    </tr>\n",
       "    <tr>\n",
       "      <th>9</th>\n",
       "      <td>NaN</td>\n",
       "      <td>ITA</td>\n",
       "      <td>19.2</td>\n",
       "      <td>0.41</td>\n",
       "      <td>0.66</td>\n",
       "    </tr>\n",
       "    <tr>\n",
       "      <th>10</th>\n",
       "      <td>NaN</td>\n",
       "      <td>CAN</td>\n",
       "      <td>22.2</td>\n",
       "      <td>0.44</td>\n",
       "      <td>0.72</td>\n",
       "    </tr>\n",
       "    <tr>\n",
       "      <th>11</th>\n",
       "      <td>NaN</td>\n",
       "      <td>GBR</td>\n",
       "      <td>25.9</td>\n",
       "      <td>0.45</td>\n",
       "      <td>0.77</td>\n",
       "    </tr>\n",
       "    <tr>\n",
       "      <th>12</th>\n",
       "      <td>NaN</td>\n",
       "      <td>JPN</td>\n",
       "      <td>29.8</td>\n",
       "      <td>0.25</td>\n",
       "      <td>0.60</td>\n",
       "    </tr>\n",
       "    <tr>\n",
       "      <th>13</th>\n",
       "      <td>NaN</td>\n",
       "      <td>USA</td>\n",
       "      <td>23.5</td>\n",
       "      <td>0.40</td>\n",
       "      <td>0.74</td>\n",
       "    </tr>\n",
       "  </tbody>\n",
       "</table>\n",
       "</div>"
      ],
      "text/plain": [
       "       period country     h   tau   c2y\n",
       "0   1993-1996     DEU  19.3  0.59  0.74\n",
       "1         NaN     FRA  17.5  0.59  0.74\n",
       "2         NaN     ITA  16.5  0.64  0.69\n",
       "3         NaN     CAN  22.9  0.52  0.77\n",
       "4         NaN     GBR  22.8  0.44  0.83\n",
       "5         NaN     JPN  27.0  0.37  0.68\n",
       "6         NaN     USA  25.9  0.40  0.81\n",
       "7   1970-1974     DEU  24.6  0.52  0.66\n",
       "8         NaN     FRA  24.4  0.49  0.66\n",
       "9         NaN     ITA  19.2  0.41  0.66\n",
       "10        NaN     CAN  22.2  0.44  0.72\n",
       "11        NaN     GBR  25.9  0.45  0.77\n",
       "12        NaN     JPN  29.8  0.25  0.60\n",
       "13        NaN     USA  23.5  0.40  0.74"
      ]
     },
     "execution_count": 3,
     "metadata": {},
     "output_type": "execute_result"
    }
   ],
   "source": [
    "data"
   ]
  },
  {
   "cell_type": "markdown",
   "metadata": {},
   "source": [
    "## Q3A"
   ]
  },
  {
   "cell_type": "markdown",
   "metadata": {},
   "source": [
    "The generalization of preferences introduced in the Prescott model, where leisure time is included as an explicit argument in the utility function, has the potential to improve the fit of the model to the data for several reasons. \n",
    "\n",
    "First, by including leisure time explicitly in the utility function, the model captures the trade-off between consumption and leisure time, which is a crucial determinant of labour supply decisions. This means that the model can better capture the behaviour of individuals who value leisure time differently, and thus can better explain the variation in labour supply across individuals and countries. Second, by introducing an additional parameter, sigma > 0, which determines the curvature of the utility of leisure, the model can better capture the heterogeneity of preferences across individuals and countries.\n",
    "\n",
    "Different values of sigma reflect different attitudes towards leisure time, with higher values of o indicating that individuals derive greater utility from small increases in leisure time. By allowing for such heterogeneity, the model can better explain the observed variation in labour supply across individuals and countries.\n",
    "\n",
    "Overall, the generalization of preferences in the Prescott model has the potential to improve the fit of the model to the data by capturing the trade-off between consumption and leisure time explicitly and allowing for  heterogeneity in preferences."
   ]
  },
  {
   "cell_type": "markdown",
   "metadata": {},
   "source": [
    "## Q3B"
   ]
  },
  {
   "cell_type": "markdown",
   "metadata": {},
   "source": [
    "To derive the condition for optimal hours worked, we start by maximizing the utility function with respect to hours worked h:\n",
    "\n",
    "max U(c) + V(100 - h) = log(c) + (alpha(100 - h)^1-sigma)/1-sigma\n",
    "\n",
    "subject to c = w * h, where w is the wage rate.\n",
    "\n",
    "Using the first-order condition, we have:\n",
    "\n",
    "d/dh [log(c) + (alpha(100 - h)^1-sigma)/1-sigma - lambda * c] = 0\n",
    "\n",
    "where lambda is the Lagrange multiplier for the budget constraint.\n",
    "\n",
    "Simplifying and rearranging, we get:\n",
    "\n",
    "w / c = (alpha(100 - h)^-sigma) * (100 - h)^sigma\n",
    "\n",
    "which can be further simplified as:\n",
    "\n",
    "w / c = alpha * (100 - h)^-sigma\n",
    "\n",
    "Multiplying both sides by (100 - h)^sigma and rearranging, we get:\n",
    "\n",
    "(100 - h) = [alpha * c/w]^(1/sigma)\n",
    "\n",
    "Substituting this into the budget constraint, we have:\n",
    "\n",
    "c = w * h = w * [100 - ([alpha * c/w]^(1/sigma))]\n",
    "\n",
    "Simplifying and rearranging, we get:\n",
    "\n",
    "h = 100 - [w / alpha]^sigma * c^(1 - sigma) / w^(1 - sigma)\n",
    "\n",
    "Letting Z(h) = h + [w / alpha]^sigma * c^(1 - sigma) / w^(1 - sigma) - 100, we obtain the condition for the optimal hours worked as the root of the nonlinear equation Z(h*) = 0:\n",
    "\n",
    "h* + [w / alpha]^sigma * c^(1 - sigma) / w^(1 - sigma) - 100 = 0\n",
    "\n",
    "This condition for optimal hours worked is a function of alpha (the curvature of the utility of leisure), sigma (the elasticity of substitution between consumption and leisure), w (the wage rate), c (consumption), and c/y (the ratio of consumption to income)."
   ]
  },
  {
   "cell_type": "markdown",
   "metadata": {},
   "source": [
    "## Q3C"
   ]
  },
  {
   "cell_type": "code",
   "execution_count": 4,
   "metadata": {},
   "outputs": [],
   "source": [
    "import pandas as pd\n",
    "import numpy as np\n",
    "from scipy.optimize import minimize_scalar"
   ]
  },
  {
   "cell_type": "code",
   "execution_count": 5,
   "metadata": {},
   "outputs": [
    {
     "name": "stdout",
     "output_type": "stream",
     "text": [
      "alpha: 0.7000, sigma: 0.2000\n"
     ]
    }
   ],
   "source": [
    "import numpy as np\n",
    "from scipy.optimize import minimize\n",
    "\n",
    "# Define the utility function\n",
    "def utility(c, h, alpha, sigma):\n",
    "    return np.log(c) + (alpha * (100 - h) ** (1 - sigma)) / (1 - sigma)\n",
    "\n",
    "# Define the objective function to minimize (sum of squared errors)\n",
    "def objective(x, data):\n",
    "    alpha, sigma = x\n",
    "    errors = []\n",
    "    for period in ['1970-1974', '1993-1996']:\n",
    "        period_data = data[data['period'] == period]\n",
    "        c = period_data['c2y']\n",
    "        h = period_data['h']\n",
    "        predicted_h = 100 - minimize(lambda h: -utility(c, h, alpha, sigma), x0=np.mean(h), bounds=[(0, None)]).x\n",
    "        errors += list((h - predicted_h) ** 2)\n",
    "    return np.sum(errors)\n",
    "\n",
    "# Load the data\n",
    "data = pd.read_csv('data_prescott.csv')\n",
    "\n",
    "# Set initial values for alpha and sigma\n",
    "x0 = [0.7, 0.2]\n",
    "\n",
    "# Minimize the objective function to estimate alpha and sigma\n",
    "result = minimize(objective, x0=x0, args=(data,), method='Nelder-Mead')\n",
    "\n",
    "# Print the estimated values of alpha and sigma\n",
    "print(f\"alpha: {result.x[0]:.4f}, sigma: {result.x[1]:.4f}\")\n"
   ]
  }
 ],
 "metadata": {
  "kernelspec": {
   "display_name": "Python 3 (ipykernel)",
   "language": "python",
   "name": "python3"
  },
  "language_info": {
   "codemirror_mode": {
    "name": "ipython",
    "version": 3
   },
   "file_extension": ".py",
   "mimetype": "text/x-python",
   "name": "python",
   "nbconvert_exporter": "python",
   "pygments_lexer": "ipython3",
   "version": "3.10.9"
  }
 },
 "nbformat": 4,
 "nbformat_minor": 4
}
